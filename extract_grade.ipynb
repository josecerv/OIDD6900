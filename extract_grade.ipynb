{
 "cells": [
  {
   "cell_type": "code",
   "execution_count": 1,
   "metadata": {},
   "outputs": [
    {
     "ename": "ValueError",
     "evalue": "API key not found. Please set the CANVAS_API_KEY environment variable.",
     "output_type": "error",
     "traceback": [
      "\u001b[1;31m---------------------------------------------------------------------------\u001b[0m",
      "\u001b[1;31mValueError\u001b[0m                                Traceback (most recent call last)",
      "Cell \u001b[1;32mIn[1], line 14\u001b[0m\n\u001b[0;32m     11\u001b[0m api_key \u001b[38;5;241m=\u001b[39m os\u001b[38;5;241m.\u001b[39mgetenv(\u001b[38;5;124m'\u001b[39m\u001b[38;5;124mCANVAS_API_KEY\u001b[39m\u001b[38;5;124m'\u001b[39m)\n\u001b[0;32m     13\u001b[0m \u001b[38;5;28;01mif\u001b[39;00m \u001b[38;5;129;01mnot\u001b[39;00m api_key:\n\u001b[1;32m---> 14\u001b[0m     \u001b[38;5;28;01mraise\u001b[39;00m \u001b[38;5;167;01mValueError\u001b[39;00m(\u001b[38;5;124m\"\u001b[39m\u001b[38;5;124mAPI key not found. Please set the CANVAS_API_KEY environment variable.\u001b[39m\u001b[38;5;124m\"\u001b[39m)\n\u001b[0;32m     16\u001b[0m \u001b[38;5;66;03m# Header for requests\u001b[39;00m\n\u001b[0;32m     17\u001b[0m headers \u001b[38;5;241m=\u001b[39m {\n\u001b[0;32m     18\u001b[0m     \u001b[38;5;124m\"\u001b[39m\u001b[38;5;124mAuthorization\u001b[39m\u001b[38;5;124m\"\u001b[39m: \u001b[38;5;124mf\u001b[39m\u001b[38;5;124m\"\u001b[39m\u001b[38;5;124mBearer \u001b[39m\u001b[38;5;132;01m{\u001b[39;00mapi_key\u001b[38;5;132;01m}\u001b[39;00m\u001b[38;5;124m\"\u001b[39m\n\u001b[0;32m     19\u001b[0m }\n",
      "\u001b[1;31mValueError\u001b[0m: API key not found. Please set the CANVAS_API_KEY environment variable."
     ]
    }
   ],
   "source": [
    "import requests\n",
    "import csv\n",
    "import re\n",
    "import os\n",
    "\n",
    "\n",
    "\n",
    "\n",
    "# Canvas API configuration\n",
    "api_url = \"https://canvas.upenn.edu/api/v1/\"\n",
    "os.environ['CANVAS_API_KEY'] = \"your_api_key_here\"\n",
    "api_key = os.getenv('CANVAS_API_KEY')\n",
    "\n",
    "if not api_key:\n",
    "    raise ValueError(\"API key not found. Please set the CANVAS_API_KEY environment variable.\")\n",
    "\n",
    "# Header for requests\n",
    "headers = {\n",
    "    \"Authorization\": f\"Bearer {api_key}\"\n",
    "}\n",
    "\n",
    "# Course and assignment IDs\n",
    "course_id = 1771351\n",
    "assignment_id = 11924078  # Use the correct assignment ID for hw2\n",
    "\n",
    "def get_students(course_id):\n",
    "    endpoint = f\"courses/{course_id}/students\"\n",
    "    url = f\"{api_url}{endpoint}\"\n",
    "    response = requests.get(url, headers=headers)\n",
    "    if response.status_code == 200:\n",
    "        return response.json()\n",
    "    else:\n",
    "        print(f\"Failed to retrieve students. Status code: {response.status_code}, Response: {response.text}\")\n",
    "        return []\n",
    "\n",
    "def get_assignment_comments(course_id, assignment_id, student_id):\n",
    "    endpoint = f\"courses/{course_id}/assignments/{assignment_id}/submissions/{student_id}?include[]=submission_comments\"\n",
    "    url = f\"{api_url}{endpoint}\"\n",
    "    response = requests.get(url, headers=headers)\n",
    "    if response.status_code == 200:\n",
    "        submission = response.json()\n",
    "        comments = submission.get('submission_comments', [])\n",
    "        full_comment = \" \".join(comment.get('comment', '') for comment in comments)\n",
    "        return full_comment\n",
    "    else:\n",
    "        print(f\"Failed to retrieve submission for student {student_id}. Status code: {response.status_code}, Response: {response.text}\")\n",
    "        return \"\"\n",
    "\n",
    "def extract_grade(comment_text):\n",
    "    # Enhanced RegEx to find 'Overall assignment grade' or common misspellings like 'Oveall'\n",
    "    # followed by a grade, including trailing spaces and underscores\n",
    "    match = re.search(r\"(?:Overall|Oveall)(?: Assignment Grade)?:?\\s*(CHECK(?:\\sPLUS|\\sMINUS)?|CHECK|GOOD)\\s*[_]*\", comment_text, re.IGNORECASE)\n",
    "    if match:\n",
    "        return match.group(1).strip().upper()  # Return corrected grade match\n",
    "    return \"\"  # Return empty string when no grade is found\n",
    "\n",
    "\n",
    "def create_gradebook_csv(course_id, assignment_name, csv_filename):\n",
    "    students = get_students(course_id)\n",
    "    with open(csv_filename, mode='w', newline='', encoding='utf-8') as file:\n",
    "        writer = csv.writer(file)\n",
    "        writer.writerow(['studentID', 'name', 'assignment', 'comment', 'grade'])\n",
    "        \n",
    "        for student in students:\n",
    "            student_id = student['id']\n",
    "            student_name = student['name']\n",
    "            comment = get_assignment_comments(course_id, assignment_id, student_id)\n",
    "            grade = extract_grade(comment)\n",
    "            writer.writerow([student_id, student_name, assignment_name, comment, grade])\n",
    "\n",
    "if __name__ == \"__main__\":\n",
    "    create_gradebook_csv(course_id, 'hw2', 'gradebook_hw2.csv')\n"
   ]
  }
 ],
 "metadata": {
  "kernelspec": {
   "display_name": "Python 3",
   "language": "python",
   "name": "python3"
  },
  "language_info": {
   "codemirror_mode": {
    "name": "ipython",
    "version": 3
   },
   "file_extension": ".py",
   "mimetype": "text/x-python",
   "name": "python",
   "nbconvert_exporter": "python",
   "pygments_lexer": "ipython3",
   "version": "3.12.2"
  }
 },
 "nbformat": 4,
 "nbformat_minor": 2
}
